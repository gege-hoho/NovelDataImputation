{
  "nbformat": 4,
  "nbformat_minor": 0,
  "metadata": {
    "colab": {
      "name": "WordEmbeddingModel.ipynb",
      "provenance": []
    },
    "kernelspec": {
      "name": "python3",
      "display_name": "Python 3"
    },
    "language_info": {
      "name": "python"
    }
  },
  "cells": [
    {
      "cell_type": "code",
      "metadata": {
        "id": "NiCIt2VQKRn1"
      },
      "source": [
        "import os\n",
        "import urllib.request"
      ],
      "execution_count": null,
      "outputs": []
    },
    {
      "cell_type": "code",
      "metadata": {
        "colab": {
          "base_uri": "https://localhost:8080/",
          "height": 229
        },
        "id": "njCEQZa-KIAl",
        "outputId": "094697b5-59b5-4da0-bc9c-8e45f8cb453e"
      },
      "source": [
        "if os.path.exists(\"zip.zip\"):\n",
        "  assert False\n",
        "urllib.request.urlretrieve(\"https://fdc.nal.usda.gov/fdc-datasets/FoodData_Central_branded_food_csv_2021-10-28.zip\", \"zip.zip\")\n",
        "!unzip zip.zip -d data\n",
        "!mkdir data/models\n",
        "#urllib.request.urlretrieve(\"https://github.com/andreamorgar/recipe-adaptation/raw/main/models/v3/modelo3\",\"data/models/modelo3\")"
      ],
      "execution_count": null,
      "outputs": [
        {
          "output_type": "error",
          "ename": "AssertionError",
          "evalue": "ignored",
          "traceback": [
            "\u001b[0;31m---------------------------------------------------------------------------\u001b[0m",
            "\u001b[0;31mAssertionError\u001b[0m                            Traceback (most recent call last)",
            "\u001b[0;32m<ipython-input-3-3edf4514d9b9>\u001b[0m in \u001b[0;36m<module>\u001b[0;34m()\u001b[0m\n\u001b[1;32m      1\u001b[0m \u001b[0;32mif\u001b[0m \u001b[0mos\u001b[0m\u001b[0;34m.\u001b[0m\u001b[0mpath\u001b[0m\u001b[0;34m.\u001b[0m\u001b[0mexists\u001b[0m\u001b[0;34m(\u001b[0m\u001b[0;34m\"zip.zip\"\u001b[0m\u001b[0;34m)\u001b[0m\u001b[0;34m:\u001b[0m\u001b[0;34m\u001b[0m\u001b[0;34m\u001b[0m\u001b[0m\n\u001b[0;32m----> 2\u001b[0;31m   \u001b[0;32massert\u001b[0m \u001b[0;32mFalse\u001b[0m\u001b[0;34m\u001b[0m\u001b[0;34m\u001b[0m\u001b[0m\n\u001b[0m\u001b[1;32m      3\u001b[0m \u001b[0murllib\u001b[0m\u001b[0;34m.\u001b[0m\u001b[0mrequest\u001b[0m\u001b[0;34m.\u001b[0m\u001b[0murlretrieve\u001b[0m\u001b[0;34m(\u001b[0m\u001b[0;34m\"https://fdc.nal.usda.gov/fdc-datasets/FoodData_Central_branded_food_csv_2021-10-28.zip\"\u001b[0m\u001b[0;34m,\u001b[0m \u001b[0;34m\"zip.zip\"\u001b[0m\u001b[0;34m)\u001b[0m\u001b[0;34m\u001b[0m\u001b[0;34m\u001b[0m\u001b[0m\n\u001b[1;32m      4\u001b[0m \u001b[0mget_ipython\u001b[0m\u001b[0;34m(\u001b[0m\u001b[0;34m)\u001b[0m\u001b[0;34m.\u001b[0m\u001b[0msystem\u001b[0m\u001b[0;34m(\u001b[0m\u001b[0;34m'unzip zip.zip -d data'\u001b[0m\u001b[0;34m)\u001b[0m\u001b[0;34m\u001b[0m\u001b[0;34m\u001b[0m\u001b[0m\n\u001b[1;32m      5\u001b[0m \u001b[0mget_ipython\u001b[0m\u001b[0;34m(\u001b[0m\u001b[0;34m)\u001b[0m\u001b[0;34m.\u001b[0m\u001b[0msystem\u001b[0m\u001b[0;34m(\u001b[0m\u001b[0;34m'mkdir data/models'\u001b[0m\u001b[0;34m)\u001b[0m\u001b[0;34m\u001b[0m\u001b[0;34m\u001b[0m\u001b[0m\n",
            "\u001b[0;31mAssertionError\u001b[0m: "
          ]
        }
      ]
    },
    {
      "cell_type": "code",
      "metadata": {
        "colab": {
          "base_uri": "https://localhost:8080/"
        },
        "id": "ZwLYhhcHKfTj",
        "outputId": "c8576023-7d28-4f73-c908-0b839be6faaf"
      },
      "source": [
        "from gensim.models import Word2Vec\n",
        "from gensim.models import KeyedVectors\n",
        "import gensim\n",
        "from gensim.parsing.preprocessing import preprocess_string, remove_stopwords, stem_text\n",
        "from gensim.models import Phrases\n",
        "from gensim.models.phrases import Phraser\n",
        "from nltk.tokenize import RegexpTokenizer\n",
        "import pandas as pd\n",
        "import re\n",
        "import nltk\n",
        "nltk.download('stopwords')\n",
        "nltk.download('wordnet')"
      ],
      "execution_count": null,
      "outputs": [
        {
          "output_type": "stream",
          "name": "stdout",
          "text": [
            "[nltk_data] Downloading package stopwords to /root/nltk_data...\n",
            "[nltk_data]   Package stopwords is already up-to-date!\n",
            "[nltk_data] Downloading package wordnet to /root/nltk_data...\n",
            "[nltk_data]   Package wordnet is already up-to-date!\n"
          ]
        },
        {
          "output_type": "execute_result",
          "data": {
            "text/plain": [
              "True"
            ]
          },
          "metadata": {},
          "execution_count": 4
        }
      ]
    },
    {
      "cell_type": "code",
      "metadata": {
        "colab": {
          "base_uri": "https://localhost:8080/"
        },
        "id": "1YA3211JL2SG",
        "outputId": "8fba8e10-ddca-4def-a310-a56836b0ea4b"
      },
      "source": [
        "branded_food = pd.read_csv(\"data/branded_food.csv\")\n",
        "food2 = pd.read_csv(\"data/food.csv\")\n",
        "food2 = branded_food.merge(food2, on='fdc_id')\n",
        "del branded_food\n",
        "food = pd.DataFrame(food2[\"description\"])\n",
        "food[\"branded_food_category\"] = food2[\"branded_food_category\"].astype('category')\n",
        "food[\"brand_name\"] = food2[\"brand_name\"].fillna(\"\").astype(str)\n",
        "del food2"
      ],
      "execution_count": null,
      "outputs": [
        {
          "output_type": "stream",
          "name": "stderr",
          "text": [
            "/usr/local/lib/python3.7/dist-packages/IPython/core/interactiveshell.py:2718: DtypeWarning: Columns (2,3,4,6,9) have mixed types.Specify dtype option on import or set low_memory=False.\n",
            "  interactivity=interactivity, compiler=compiler, result=result)\n"
          ]
        }
      ]
    },
    {
      "cell_type": "code",
      "metadata": {
        "id": "JvxfILADK2gq"
      },
      "source": [
        "lst_stopwords = nltk.corpus.stopwords.words(\"english\")\n",
        "custom = [\"gal\", \"oz\", \"t\", \"tsp\", \"teaspoon\", \n",
        "          \"tablespoon\", \"tbl\", \"tbs\", \"tbsp\",\n",
        "          \"fl\", \"oz\", \"gil\", \"ounce\", \"ml\", \"l\",\n",
        "          \"dl\", \"lb\", \"pund\", \"mg\", \"g\", \"kg\", \"gram\", \"cup\"]\n",
        "lst_stopwords.extend(custom)\n",
        "tokenizer = RegexpTokenizer(r'\\w+')\n",
        "lemmatizer = nltk.stem.wordnet.WordNetLemmatizer()\n",
        "\n",
        "def preprocess2(name):\n",
        "    name = re.sub(r'[^\\w\\s]', '', str(name).lower().strip())\n",
        "    name = tokenizer.tokenize(name)\n",
        "    name = [x for x in name if x not in lst_stopwords and len(x)>2]\n",
        "    name = [x for x in name if not any(char.isdigit() for char in x)] \n",
        "    name = [lemmatizer.lemmatize(x) for x in name]\n",
        "    return name\n",
        "\n",
        "def preprocess(name):\n",
        "    name = preprocess2(name)\n",
        "    name = list(set(name))\n",
        "    #todo bigrams\n",
        "    return name"
      ],
      "execution_count": null,
      "outputs": []
    },
    {
      "cell_type": "code",
      "metadata": {
        "colab": {
          "base_uri": "https://localhost:8080/"
        },
        "id": "OqFr9l06Lv1k",
        "outputId": "67a89e6d-5ed3-4bea-a2a4-6ee1cba63272"
      },
      "source": [
        "lst_corpus = []\n",
        "for index, row in food.iterrows():\n",
        "  brand = row[\"brand_name\"]\n",
        "  x = str(row[\"description\"])\n",
        "  lst_brand = preprocess2(brand)\n",
        "  lst_words = preprocess2(x)\n",
        "  if not any(x in lst_words for x in lst_brand):\n",
        "    lst_words = lst_brand + lst_words\n",
        "\n",
        "  if index % 100000 == 0:\n",
        "    print(index)\n",
        "  #lst_grams = [\" \".join(lst_words[i:i+2]) for i in range(0, len(lst_words), 1)]\n",
        "  lst_corpus.append(lst_words)\n",
        "bigram_mdl = Phrases(lst_corpus, min_count=5, threshold=2, delimiter=b' ')\n",
        "bigrams = bigram_mdl[lst_corpus]"
      ],
      "execution_count": null,
      "outputs": [
        {
          "output_type": "stream",
          "name": "stdout",
          "text": [
            "0\n",
            "100000\n",
            "200000\n",
            "300000\n",
            "400000\n",
            "500000\n",
            "600000\n",
            "700000\n",
            "800000\n",
            "900000\n",
            "1000000\n",
            "1100000\n",
            "1200000\n",
            "1300000\n",
            "1400000\n",
            "1500000\n"
          ]
        },
        {
          "output_type": "stream",
          "name": "stderr",
          "text": [
            "/usr/local/lib/python3.7/dist-packages/gensim/models/phrases.py:598: UserWarning: For a faster implementation, use the gensim.models.phrases.Phraser class\n",
            "  warnings.warn(\"For a faster implementation, use the gensim.models.phrases.Phraser class\")\n"
          ]
        }
      ]
    },
    {
      "cell_type": "code",
      "metadata": {
        "colab": {
          "base_uri": "https://localhost:8080/"
        },
        "id": "0XMLBZTsPU-A",
        "outputId": "1253cce6-e607-4f94-c653-a7f802e266ae"
      },
      "source": [
        "bigram_mdl.save(\"data/models/bigram_model.pkl\")\n",
        "all_sentences = list(bigrams)"
      ],
      "execution_count": null,
      "outputs": [
        {
          "output_type": "stream",
          "name": "stderr",
          "text": [
            "/usr/local/lib/python3.7/dist-packages/gensim/models/phrases.py:598: UserWarning: For a faster implementation, use the gensim.models.phrases.Phraser class\n",
            "  warnings.warn(\"For a faster implementation, use the gensim.models.phrases.Phraser class\")\n"
          ]
        }
      ]
    },
    {
      "cell_type": "code",
      "metadata": {
        "id": "f99qDUXvI9dM"
      },
      "source": [
        "model = Word2Vec(all_sentences, min_count=3, size=300, workers=4, window=5, iter=30)\n",
        "model.save(\"data/models/mymodel\")"
      ],
      "execution_count": null,
      "outputs": []
    },
    {
      "cell_type": "code",
      "metadata": {
        "colab": {
          "base_uri": "https://localhost:8080/"
        },
        "id": "Kw3LC25AVK6c",
        "outputId": "c6ccc9a5-1838-46e9-c8ab-2dac3a31dcdf"
      },
      "source": [
        "lst_corpus[1555129]"
      ],
      "execution_count": null,
      "outputs": [
        {
          "output_type": "execute_result",
          "data": {
            "text/plain": [
              "['rocket', 'fuel', 'sauce']"
            ]
          },
          "metadata": {},
          "execution_count": 10
        }
      ]
    },
    {
      "cell_type": "code",
      "metadata": {
        "colab": {
          "base_uri": "https://localhost:8080/",
          "height": 417
        },
        "id": "vhyV1AkJUwFr",
        "outputId": "dd3f99d1-3d2f-4070-c10d-cb84a3cf215e"
      },
      "source": [
        "food"
      ],
      "execution_count": null,
      "outputs": [
        {
          "output_type": "execute_result",
          "data": {
            "text/html": [
              "<div>\n",
              "<style scoped>\n",
              "    .dataframe tbody tr th:only-of-type {\n",
              "        vertical-align: middle;\n",
              "    }\n",
              "\n",
              "    .dataframe tbody tr th {\n",
              "        vertical-align: top;\n",
              "    }\n",
              "\n",
              "    .dataframe thead th {\n",
              "        text-align: right;\n",
              "    }\n",
              "</style>\n",
              "<table border=\"1\" class=\"dataframe\">\n",
              "  <thead>\n",
              "    <tr style=\"text-align: right;\">\n",
              "      <th></th>\n",
              "      <th>description</th>\n",
              "      <th>branded_food_category</th>\n",
              "      <th>brand_name</th>\n",
              "    </tr>\n",
              "  </thead>\n",
              "  <tbody>\n",
              "    <tr>\n",
              "      <th>0</th>\n",
              "      <td>WESSON Vegetable Oil 1 GAL</td>\n",
              "      <td>Oils Edible</td>\n",
              "      <td></td>\n",
              "    </tr>\n",
              "    <tr>\n",
              "      <th>1</th>\n",
              "      <td>SWANSON BROTH BEEF</td>\n",
              "      <td>Herbs/Spices/Extracts</td>\n",
              "      <td></td>\n",
              "    </tr>\n",
              "    <tr>\n",
              "      <th>2</th>\n",
              "      <td>CAMPBELL'S SLOW KETTLE SOUP CLAM CHOWDER</td>\n",
              "      <td>Prepared Soups</td>\n",
              "      <td></td>\n",
              "    </tr>\n",
              "    <tr>\n",
              "      <th>3</th>\n",
              "      <td>CAMPBELL'S SLOW KETTLE SOUP CHEESE BROCCOLI</td>\n",
              "      <td>Prepared Soups</td>\n",
              "      <td></td>\n",
              "    </tr>\n",
              "    <tr>\n",
              "      <th>4</th>\n",
              "      <td>SWANSON BROTH CHICKEN</td>\n",
              "      <td>Herbs/Spices/Extracts</td>\n",
              "      <td></td>\n",
              "    </tr>\n",
              "    <tr>\n",
              "      <th>...</th>\n",
              "      <td>...</td>\n",
              "      <td>...</td>\n",
              "      <td>...</td>\n",
              "    </tr>\n",
              "    <tr>\n",
              "      <th>1555126</th>\n",
              "      <td>Manuka Hunters Bush Honey 250g</td>\n",
              "      <td>Spreads</td>\n",
              "      <td>Manuka Hunters</td>\n",
              "    </tr>\n",
              "    <tr>\n",
              "      <th>1555127</th>\n",
              "      <td>Manuka Hunters Bush Honey 500g</td>\n",
              "      <td>Spreads</td>\n",
              "      <td>Manuka Hunters</td>\n",
              "    </tr>\n",
              "    <tr>\n",
              "      <th>1555128</th>\n",
              "      <td>Manuka Hunters Bush Honey 1kg</td>\n",
              "      <td>Spreads</td>\n",
              "      <td>Manuka Hunters</td>\n",
              "    </tr>\n",
              "    <tr>\n",
              "      <th>1555129</th>\n",
              "      <td>Rocket Fuel Sauce 300g</td>\n",
              "      <td>Sauces</td>\n",
              "      <td>Rocket Fuel</td>\n",
              "    </tr>\n",
              "    <tr>\n",
              "      <th>1555130</th>\n",
              "      <td>The Kiwi Artisan Manuka Smoked Olives 150g</td>\n",
              "      <td>Pickles, Relishes and Vinegar</td>\n",
              "      <td>The Kiwi Artisan</td>\n",
              "    </tr>\n",
              "  </tbody>\n",
              "</table>\n",
              "<p>1555131 rows × 3 columns</p>\n",
              "</div>"
            ],
            "text/plain": [
              "                                         description  ...        brand_name\n",
              "0                         WESSON Vegetable Oil 1 GAL  ...                  \n",
              "1                                 SWANSON BROTH BEEF  ...                  \n",
              "2           CAMPBELL'S SLOW KETTLE SOUP CLAM CHOWDER  ...                  \n",
              "3        CAMPBELL'S SLOW KETTLE SOUP CHEESE BROCCOLI  ...                  \n",
              "4                              SWANSON BROTH CHICKEN  ...                  \n",
              "...                                              ...  ...               ...\n",
              "1555126               Manuka Hunters Bush Honey 250g  ...    Manuka Hunters\n",
              "1555127               Manuka Hunters Bush Honey 500g  ...    Manuka Hunters\n",
              "1555128                Manuka Hunters Bush Honey 1kg  ...    Manuka Hunters\n",
              "1555129                       Rocket Fuel Sauce 300g  ...       Rocket Fuel\n",
              "1555130   The Kiwi Artisan Manuka Smoked Olives 150g  ...  The Kiwi Artisan\n",
              "\n",
              "[1555131 rows x 3 columns]"
            ]
          },
          "metadata": {},
          "execution_count": 11
        }
      ]
    },
    {
      "cell_type": "code",
      "metadata": {
        "colab": {
          "base_uri": "https://localhost:8080/"
        },
        "id": "SeNsSwvXT_bC",
        "outputId": "c6c8bfe7-0ea1-4103-a685-7f708dfdea0b"
      },
      "source": [
        "bigram_mdl[\"red\",\"bull\"]"
      ],
      "execution_count": null,
      "outputs": [
        {
          "output_type": "stream",
          "name": "stderr",
          "text": [
            "/usr/local/lib/python3.7/dist-packages/gensim/models/phrases.py:598: UserWarning: For a faster implementation, use the gensim.models.phrases.Phraser class\n",
            "  warnings.warn(\"For a faster implementation, use the gensim.models.phrases.Phraser class\")\n"
          ]
        },
        {
          "output_type": "execute_result",
          "data": {
            "text/plain": [
              "['red bull']"
            ]
          },
          "metadata": {},
          "execution_count": 12
        }
      ]
    }
  ]
}